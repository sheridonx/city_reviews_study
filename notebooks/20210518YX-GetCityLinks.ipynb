{
 "metadata": {
  "language_info": {
   "codemirror_mode": {
    "name": "ipython",
    "version": 3
   },
   "file_extension": ".py",
   "mimetype": "text/x-python",
   "name": "python",
   "nbconvert_exporter": "python",
   "pygments_lexer": "ipython3",
   "version": "3.8.10"
  },
  "orig_nbformat": 2,
  "kernelspec": {
   "name": "python3810jvsc74a57bd0dd58b2f556e461a08f86595294a01186edee4e7b3581f67114cec4ed1ccd6d62",
   "display_name": "Python 3.8.10 64-bit ('city_reviews': venv)"
  }
 },
 "nbformat": 4,
 "nbformat_minor": 2,
 "cells": [
  {
   "cell_type": "code",
   "execution_count": 1,
   "metadata": {},
   "outputs": [],
   "source": [
    "import pandas as pd\n",
    "from bs4 import BeautifulSoup\n",
    "from selenium import webdriver\n",
    "import os\n",
    "from os import path\n",
    "from datetime import datetime\n",
    "import pickle"
   ]
  },
  {
   "source": [
    "data_path = path.join(path.dirname(os.getcwd()),'data','d01_raw')"
   ],
   "cell_type": "code",
   "metadata": {},
   "execution_count": 2,
   "outputs": []
  },
  {
   "cell_type": "code",
   "execution_count": 3,
   "metadata": {},
   "outputs": [],
   "source": [
    "driver_path = path.join(path.dirname(os.getcwd()),'drivers','chromedriver.exe')"
   ]
  },
  {
   "cell_type": "code",
   "execution_count": 4,
   "metadata": {},
   "outputs": [],
   "source": [
    "driver = webdriver.Chrome(executable_path=driver_path)"
   ]
  },
  {
   "cell_type": "code",
   "execution_count": 5,
   "metadata": {},
   "outputs": [],
   "source": [
    "catalog_file_name = 'city_link_catalog.pkl'"
   ]
  },
  {
   "cell_type": "code",
   "execution_count": 6,
   "metadata": {},
   "outputs": [],
   "source": [
    "if path.isfile(path.join(data_path, catalog_file_name)):\n",
    "    with open(path.join(data_path, catalog_file_name),'rb') as f:\n",
    "        df_city_catalog = pickle.load(f)\n",
    "else:\n",
    "    df_city_catalog = pd.DataFrame(columns=['city','department','link'])"
   ]
  },
  {
   "cell_type": "code",
   "execution_count": 7,
   "metadata": {},
   "outputs": [],
   "source": [
    "catalog_path = 'https://www.ville-ideale.fr/villespardepts.php'"
   ]
  },
  {
   "cell_type": "code",
   "execution_count": 8,
   "metadata": {},
   "outputs": [],
   "source": [
    "driver.get(url=catalog_path)"
   ]
  },
  {
   "source": [
    "aggre the cookie block if any"
   ],
   "cell_type": "markdown",
   "metadata": {}
  },
  {
   "cell_type": "code",
   "execution_count": 30,
   "metadata": {},
   "outputs": [],
   "source": [
    "# click on cookie block's agree if any\n",
    "consent_btns = driver.find_elements_by_xpath('//a[@data-role=\"b_agree\"]')\n",
    "if len(consent_btns)==1:\n",
    "    consent_btns[0].click()"
   ]
  },
  {
   "cell_type": "code",
   "execution_count": 31,
   "metadata": {},
   "outputs": [],
   "source": [
    "depts_alias = driver.find_elements_by_xpath('//p[@id=\"listedepts\"]/a[@onclick]')"
   ]
  },
  {
   "cell_type": "code",
   "execution_count": 32,
   "metadata": {},
   "outputs": [],
   "source": [
    "depts_alias[0].click()"
   ]
  },
  {
   "cell_type": "code",
   "execution_count": null,
   "metadata": {},
   "outputs": [],
   "source": [
    "with open(path.join(data_path, catalog_file_name),'wb') as f:\n",
    "    pickle.dump(df_city_catalog, f)"
   ]
  }
 ]
}