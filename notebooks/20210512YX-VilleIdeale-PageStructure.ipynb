{
 "metadata": {
  "language_info": {
   "codemirror_mode": {
    "name": "ipython",
    "version": 3
   },
   "file_extension": ".py",
   "mimetype": "text/x-python",
   "name": "python",
   "nbconvert_exporter": "python",
   "pygments_lexer": "ipython3",
   "version": "3.8.10"
  },
  "orig_nbformat": 2,
  "kernelspec": {
   "name": "python3810jvsc74a57bd0dd58b2f556e461a08f86595294a01186edee4e7b3581f67114cec4ed1ccd6d62",
   "display_name": "Python 3.8.10 64-bit ('city_reviews': venv)"
  },
  "metadata": {
   "interpreter": {
    "hash": "dd58b2f556e461a08f86595294a01186edee4e7b3581f67114cec4ed1ccd6d62"
   }
  }
 },
 "nbformat": 4,
 "nbformat_minor": 2,
 "cells": [
  {
   "cell_type": "code",
   "execution_count": 1,
   "metadata": {},
   "outputs": [],
   "source": [
    "import pandas as pd\n",
    "from bs4 import BeautifulSoup\n",
    "from selenium import webdriver\n",
    "import os\n",
    "from os import path"
   ]
  },
  {
   "cell_type": "code",
   "execution_count": 7,
   "metadata": {},
   "outputs": [],
   "source": [
    "driver_path = path.join(path.dirname(os.getcwd()),'drivers','chromedriver.exe')"
   ]
  },
  {
   "cell_type": "code",
   "execution_count": 8,
   "metadata": {},
   "outputs": [],
   "source": [
    "driver = webdriver.Chrome(executable_path=driver_path)"
   ]
  },
  {
   "cell_type": "code",
   "execution_count": 9,
   "metadata": {},
   "outputs": [],
   "source": [
    "vi_base_url = 'https://www.ville-ideale.fr/'"
   ]
  },
  {
   "cell_type": "code",
   "execution_count": 10,
   "metadata": {},
   "outputs": [],
   "source": [
    "city_test = {\n",
    "    'name':'puteaux',\n",
    "    'postal_code': 92062\n",
    "}"
   ]
  },
  {
   "cell_type": "code",
   "execution_count": 11,
   "metadata": {},
   "outputs": [],
   "source": [
    "driver.get(url = vi_base_url+'{}_{}'.format(city_test['name'], city_test['postal_code']))"
   ]
  },
  {
   "cell_type": "code",
   "execution_count": 17,
   "metadata": {},
   "outputs": [],
   "source": [
    "soup = BeautifulSoup(driver.page_source)"
   ]
  },
  {
   "cell_type": "code",
   "execution_count": 19,
   "metadata": {},
   "outputs": [
    {
     "output_type": "execute_result",
     "data": {
      "text/plain": [
       "pan><br/>Par <strong>Fozer</strong></p><strong class=\"moyenne\" style=\"background-color: #66B800\">8.56</strong><table><tr><th>Environnement</th><th>Transports</th><th>Sécurité</th><th>Santé</th><th>Sports<br/>et loisirs</th><th>Culture</th><th>Enseignement</th><th>Commerces</th><th>Qualité<br/>de vie</th></tr><tr><td class=\"vert\">8</td><td class=\"vert\">8</td><td class=\"vert\">9</td><td class=\"vert\">7</td><td class=\"vert\">9</td><td class=\"vert\">9</td><td class=\"vert\">7</td><td class=\"vert\">8</td><td class=\"vert\">9</td></tr></table><p style=\"clear: both; padding-top: 12px\"><b>Les points positifs : </b>Ville propre,  calme,  jolie dans l'ensemble,  pas mal de commerces dans le centre ville. L'île de Puteaux et le bois de Boulogne permettent de souffler un peu.<br/>\n",
       " De nombreux parcs pour enfants.<br/>\n",
       " Maternelles excellentes.<br/>\n",
       " Habitants respectueux dans l'ensemble.<br/>\n",
       " Top pour les enfants.</p><p style=\"margin-top: 8px\"><b>Les points négatifs : </b>Places de stationnement rares.<br/>\n",
       " Une ville qui se densifie,  cela se voit depuis quelques années. Manque de discernement de la mairie sur ce point,  la rénovation urbaine est une excellente chose,  mais il faut savoir évaluer et anticiper les conséquences des politiques sur ce point,  ce qui n'a pas été fait j'ai l'impression. Du coup,  des coins sympas comme le marché deviennent invivables tellement il y a de monde.<br/>\n",
       " La mairie fait parfois trop dans le divertissement. Avec ses capacités financières plus devrait être fait pour le développement d'activités économiques et l'insertion sociale.</p><div class=\"interact\" id=\"97244\"><button onclick=\"signaler(97244)\" title=\"signaler seulement si commentaire irrespectueux\" type=\"button\">Signaler ce commentaire</button><p><strong>20</strong><button onclick=\"likes(97244, 0)\" type=\"button\">d'accord</button><strong>11</strong><button onclick=\"likes(97244, 1)\" type=\"button\">pas d'accord</button></p><div class=\"disab\" onclick=\"alert('Vous devez désactiver votre anti-pub pour interagir sur le site')\">Pour interagir sur le site, vous devez désactiver votre anti-pub</div></div></div><div class=\"comm\" style=\"border-left: 3px solid #33C200\"><p><span>Avis posté le 06-03-2021 à 15:47</span><br/>Par <strong>Fred</strong></p><strong class=\"moyenne\" style=\"background-color: #33C200\">9.50</strong><table><tr><th>Environnement</th><th>Transports</th><th>Sécurité</th><th>Santé</th><th>Sports<br/>et loisirs</th><th>Culture</th><th>Enseignement</th><th>Commerces</th><th>Qualité<br/>de vie</th></tr><tr><td class=\"vert\">8</td><td class=\"vert\">10</td><td class=\"vert\">10</td><td class=\"vert\">8</td><td class=\"vert\">9</td><td class=\"vert\">10</td><td class=\"vert\">8</td><td class=\"vert\">9</td><td class=\"vert\">10</td></tr></table><p style=\"clear: both; padding-top: 12px\"><b>Les points positifs : </b>Crèches, colonies, sports.<br/>\n",
       " Les transports sont au cœur de la ville, bus retour train tramway bus. <br/>\n",
       " Le buséolien : 2 lignes de bus qui desservent gratuitement Puteaux<br/>\n",
       " Dans chaque quartier des parcs<br/>\n",
       " Ville agréable. Vidéo protection et police municipale sont présents.<br/>\n",
       "  Tout est accessible à pied.</p><p style=\"margin-top: 8px\"><b>Les points négatifs : </b>Puteaux est une ville où il y a un fort dénivelé...</p><div class=\"interact\" id=\"96333\"><button onclick=\"signaler(96333)\" title=\"signaler seulement si commentaire irrespectueux\" type=\"button\">Signaler ce commentaire</button><p><strong>51</strong><button onclick=\"likes(96333, 0)\" type=\"button\">d'accord</button><strong>3</strong><button onclick=\"likes(96333, 1)\" type=\"button\">pas d'accord</button></p><div class=\"disab\" onclick=\"alert('Vous devez désactiver votre anti-pub pour interagir sur le site')\">Pour interagir sur le site, vous devez désactiver votre anti-pub</div></div></div><div id=\"interpub\"><script class=\"__lxGc__\" type=\"text/javascript\">((__lxGc__=window.__lxGc__||{'s':{},'b':0})['s']['_210338']=__lxGc__['s']['_210338']||{'b':{}})['b']['_622430']={'i':__lxGc__.b++};</script></div><div class=\"comm\" style=\"border-left: 3px solid #33C200\"><p><span>Avis posté le 10-02-2021 à 19:57</span><br/>Par <strong>Amel</strong></p><strong class=\"moyenne\" style=\"background-color: #33C200\">9.63</strong><table><tr><th>Environnement</th><th>Transports</th><th>Sécurité</th><th>Santé</th><th>Sports<br/>et loisirs</th><th>Culture</th><th>Enseignement</th><th>Commerces</th><th>Qualité<br/>de vie</th></tr><tr><td class=\"vert\">9</td><td class=\"vert\">10</td><td class=\"vert\">10</td><td class=\"vert\">9</td><td class=\"vert\">10</td><td class=\"vert\">9</td><td class=\"vert\">8</td><td class=\"vert\">9</td><td class=\"vert\">10</td></tr></table><p style=\"clear: both; padding-top: 12px\"><b>Les points positifs : </b>Ville où il fait bon vivre. Elle abrite l'île de Puteaux et est à proximité directe du bois de Boulogne,  c'est idéal pour les balades ou sortir faire du sport. Les commerces de proximité sont nombreux : notamment dans le centre ville où l'on trouve restaurants,  boulangerie,  boucherie,  fromagerie,  caviste et primeur etc... L'offre de transport est large,  à proximité de Paris et de la Défense,  il est très facile de se déplacer soit par le métro,  le bus ou la ligne L.</p><p style=\"margin-top: 8px\"><b>Les points négatifs : </b>Manque de pistes cyclables et de rues 100% piétonnes.</p><div class=\"interact\" id=\"95460\"><button onclick=\"signaler(95460)\" title=\"signaler seulement si commentaire irrespectueux\" type=\"button\">Signaler ce commentaire</button><p><strong>52</strong><button onclick=\"likes(95460, 0)\" type=\"button\">d'accord</button><strong>2</strong><button onclick=\"likes(95460, 1)\" type=\"button\">pas d'accord</button></p><div class=\"disab\" onclick=\"alert('Vous devez désactiver votre anti-pub pour interagir sur le site')\">Pour interagir sur le site, vous devez désactiver votre anti-pub</div></div></div><div class=\"comm\" style=\"border-left: 3px solid #33C200\"><p><span>Avis posté le 27-01-2021 à 11:52</span><br/>Par <strong>Joe</strong></p><strong class=\"moyenne\" style=\"background-color: #33C200\">9.63</strong><table><tr><th>Environnement</th><th>Transports</th><th>Sécurité</th><th>Santé</th><th>Sports<br/>et loisirs</th><th>Culture</th><th>Enseignement</th><th>Commerces</th><th>Qualité<br/>de vie</th></tr><tr><td class=\"vert\">9</td><td class=\"vert\">9</td><td class=\"vert\">10</td><td class=\"vert\">9</td><td class=\"vert\">10</td><td class=\"vert\">10</td><td class=\"vert\">8</td><td class=\"vert\">9</td><td class=\"vert\">10</td></tr></table><p style=\"clear: both; padding-top: 12px\"><b>Les points positifs : </b>Puteaux est une ville vraiment agréable &amp; innovante,  le point fort ce sont les commerces et le centre-ville,  on y trouve tout ce dont on a besoin et il se passe toujours quelque chose. Idéal avec les enfants. Sinon Vie quotidienne,  culture,  santé,  pas de soucis,  l'essentiel est là. Plus la proximité du Bois de Boulogne et nous avons l'île de Puteaux. La ville se rénove avec cohérence.</p><p style=\"margin-top: 8px\"><b>Les points négatifs : </b>Le stationnement mais des projets sont en cours,  la ville s'engage sur plus de verdissement,  on a hâte et les pistes cyclables à venir.  Manque un lycée privé.</p><div class=\"interact\" id=\"94830\"><button onclick=\"signaler(94830)\" title=\"signaler seulement si commentaire irrespectueux\" type=\"button\">Signaler ce commentaire</button><p><strong>45</strong><button onclick=\"likes(94830, 0)\" type=\"button\">d'accord</button><strong>1</strong><button onclick=\"likes(94830, 1)\" type=\"button\">pas d'accord</button></p><div class=\"disab\" onclick=\"alert('Vous devez désactiver votre anti-pub pour interagir sur le site')\">Pour interagir sur le site, vous devez désactiver votre anti-pub</div></div></div><div class=\"comm\" style=\"border-left: 3px solid #33C200\"><p><span>Avis posté le 27-01-2021 à 07:47</span><br/>Par <strong>manu32</strong></p><strong class=\"moyenne\" style=\"background-color: #33C200\">9.56</strong><table><tr><th>Environnement</th><th>Transports</th><th>Sécurité</th><th>Santé</th><th>Sports<br/>et loisirs</th><th>Culture</th><th>Enseignement</th><th>Commerces</th><th>Qualité<br/>de vie</th></tr><tr><td class=\"vert\">10</td><td class=\"vert\">10</td><td class=\"vert\">10</td><td class=\"vert\">9</td><td class=\"vert\">9</td><td class=\"vert\">8</td><td class=\"vert\">8</td><td class=\"vert\">9</td><td class=\"vert\">10</td></tr></table><p style=\"clear: both; padding-top: 12px\"><b>Les points positifs : </b>Ville très agréable qui se rénove rapidement bien entretenue,  commerces de proximité variés et de qualité.<br/>\n",
       " Bon entretien des espaces verts qui commencent à se multiplier.<br/>\n",
       " Proximité du métro et du tramway.</p><p style=\"margin-top: 8px\"><b>Les points négatifs : </b>Beaucoup de travaux.<br/>\n",
       " Certains quartiers (front de Seine...) avec des immeubles des années 70 moins agréables.</p><div class=\"interact\" id=\"94825\"><button onclick=\"signaler(94825)\" title=\"signaler seulement si commentaire irrespectueux\" type=\"button\">Signaler ce commentaire</button><p><strong>42</strong><button onclick=\"likes(94825, 0)\" type=\"button\">d'accord</button><strong>1</strong><button onclick=\"likes(94825, 1)\" type=\"button\">pas d'accord</button></p><div class=\"disab\" onclick=\"alert('Vous devez désactiver votre anti-pub pour interagir sur le site')\">Pour interagir sur le site, vous devez désactiver votre anti-pub</div></div></div><div class=\"divlienform\"><p class=\"lienformul\"><a href=\"/noter_puteaux-92062#formulaire\">NOTEZ ET COMMENTEZ VOTRE VILLE : Puteaux<br/>ou actualisez votre notation</a></p></div></section><nav id=\"pages\"><a class=\"lieninactif\">◄ Précédent</a><a id=\"pageactu\">1</a><a href=\"/puteaux_92062?page=2#commentaires\">2</a><a href=\"/puteaux_92062?page=3#commentaires\">3</a><a href=\"/puteaux_92062?page=4#commentaires\">4</a><a href=\"/puteaux_92062?page=5#commentaires\">5</a><a href=\"/puteaux_92062?page=6#commentaires\">6</a><a href=\"/puteaux_92062?page=7#commentaires\">7</a><a href=\"/puteaux_92062?page=8#commentaires\">8</a><a href=\"/puteaux_92062?page=9#commentaires\">9</a><a href=\"/puteaux_92062?page=10#commentaires\">10</a><a href=\"/puteaux_92062?page=11#commentaires\">11</a><a href=\"/puteaux_92062?page=12#commentaires\">12</a><a href=\"/puteaux_92062?page=13#commentaires\">13</a><a href=\"/puteaux_92062?page=14#commentaires\">14</a><a href=\"/puteaux_92062?page=15#commentaires\">15</a><a href=\"/puteaux_92062?page=16#commentaires\">16</a><a href=\"/puteaux_92062?page=17#commentaires\">17</a><a href=\"/puteaux_92062?page=18#commentaires\">18</a><a href=\"/puteaux_92062?page=19#commentaires\">19</a><a href=\"/puteaux_92062?page=20#commentaires\">20</a><a href=\"/puteaux_92062?page=21#commentaires\">21</a><a href=\"/puteaux_92062?page=22#commentaires\">22</a><a href=\"/puteaux_92062?page=23#commentaires\">23</a><a href=\"/puteaux_92062?page=24#commentaires\">24</a><a href=\"/puteaux_92062?page=25#commentaires\">25</a><a href=\"/puteaux_92062?page=26#commentaires\">26</a><a href=\"/puteaux_92062?page=2#commentaires\">Suivant ►</a></nav></div><div id=\"colright\">\n",
       " <table class=\"tabnotes\"><tr><th class=\"titretab\" colspan=\"4\">Les 10 meilleures villes<select onchange=\"cr_chpop(this)\">\n",
       " <optgroup label=\"Tout\">\n",
       " <option selected=\"\" value=\"&gt; 0\">Toutes les villes en nombre d'habitants</option>\n",
       " </optgroup><optgroup label=\"Plus\">\n",
       " <option value=\"&gt; 5000\">Villes de plus de 5 000 habitants</option>\n",
       " <option value=\"&gt; 10000\">Villes de plus de 10 000 habitants</option>\n",
       " <option value=\"&gt; 20000\">Villes de plus de 20 000 habitants</option>\n",
       " <option value=\"&gt; 50000\">Villes de plus de 50 000 habitants</option>\n",
       " <option value=\"&gt; 100000\">Villes de plus de 100 000 habitants</option>\n",
       " </optgroup><optgroup label=\"Moins\">\n",
       " <option value=\"&lt; 5000\">Villes de moins de 5 000 habitants</option>\n",
       " <option value=\"&lt; 10000\">Villes de moins de 10 000 habitants</option>\n",
       " <option value=\"&lt; 20000\">Villes de moins de 20 000 habitants</option>\n",
       " <option value=\"&lt; 50000\">Villes de moins de 50 000 habitants</option>\n",
       " <option value=\"&lt; 100000\">Villes de moins de 100 000 habitants</option>\n",
       " </optgroup>\n",
       " </select></th></tr><tbody id=\"meillnotes\"><tr><th class=\"num\">1</th><td class=\"ville\"><a href=\"/aix-les-bains_73008\">Aix-les-Bains</a></td><td class=\"notengris\">200 notes</td><td class=\"note\">8,54</td></tr><tr class=\"gris\"><th class=\"num\">2</th><td class=\"ville\"><a href=\"/maisons-laffitte_78358\">Maisons-Laffitte</a></td><td class=\"notengris\">155 notes</td><td class=\"note\">8,39</td></tr><tr><th class=\"num\">3</th><td class=\"ville\"><a href=\"/vincennes_94080\">Vincennes</a></td><td class=\"notengris\">200 notes</td><td class=\"note\">8,25</td></tr><tr class=\"gris\"><th class=\"num\">4</th><td class=\"ville\"><a href=\"/saint-gratien_95555\">Saint-Gratien</a></td><td class=\"notengris\">162 notes</td><td class=\"note\">8,18</td></tr><tr><th class=\"num\">5</th><td class=\"ville\"><a href=\"/antony_92002\">Antony</a></td><td class=\"notengris\">166 notes</td><td class=\"note\">8,15</td></tr><tr class=\"gris\"><th class=\"num\">6</th><td class=\"ville\"><a href=\"/enghien-les-bains_95210\">Enghien-les-Bains</a></td><td class=\"notengris\">91 notes</td><td class=\"note\">8,13</td></tr><tr><th class=\"num\">7</th><td class=\"ville\"><a href=\"/sceaux_92071\">Sceaux</a></td><td class=\"notengris\">156 notes</td><td class=\"note\">8,12</td></tr><tr class=\"gris\"><th class=\"num\">8</th><td class=\"ville\"><a href=\"/le-perreux-sur-marne_94058\">Le Perreux-sur-Marne</a></td><td class=\"notengris\">108 notes</td><td class=\"note\">8,09</td></tr><tr><th class=\"num\">9</th><td class=\"ville\"><a href=\"/joinville-le-pont_94042\">Joinville-le-Pont</a></td><td class=\"notengris\">107 notes</td><td class=\"note\">8,09</td></tr><tr class=\"gris\"><th class=\"num\">10</th><td class=\"ville\"><a href=\"/saint-maur-des-fosses_94068\">Saint-Maur-des-Fossés</a></td><td class=\"notengris\">200 notes</td><td class=\"note\">8,07</td></tr></tbody></table><div id=\"divhautdroite\">\n",
       " <div id=\"cpdh\">\n",
       " <script class=\"__lxGc__\" type=\"text/javascript\">((__lxGc__=window.__lxGc__||{'s':{},'b':0})['s']['_210338']=__lxGc__['s']['_210338']||{'b':{}})['b']['_613322']={'i':__lxGc__.b++};</script></div>\n",
       " <div id=\"npi\"><a href=\"https://www.notre-planete.info\" target=\"_blank\" title=\"environnement, développement durable, photos, sciences de la Terre\"><img alt=\"notre-planete.info\" id=\"imnpi\" src=\"https://www.notre-planete.info/medias/pub_300x250.png\"/></a></div>\n",
       " </div>\n",
       " <p id=\"aecdv\"><img alt=\"travaux\" height=\"50\" src=\"/images/travaux.png\" width=\"50\"/>27 avis en cours de validation</p><table class=\"tabnotes\"><tr><th class=\"titretab\" colspan=\"3\">Derniers avis validés</th></tr>\n",
       " <tr><td class=\"date aaa\">12-05, 01:19</td><td class=\"ville\"><a href=\"/villiers-sur-marne_94079\">Villiers-sur-Marne</a></td><td class=\"note\">8,31</td></tr><tr><td class=\"date aaa\">12-05, 01:07</td><td class=\"ville\"><a href=\"/givors_69091\">Givors</a></td><td class=\"note\">6,06</td></tr><tr><td class=\"date aaa\">12-05, 00:13</td><td class=\"ville\"><a href=\"/orly_94054\">Orly</a></td><td class=\"note\">8,63</td></tr><tr><td class=\"date aaa\">11-05, 23:42</td><td class=\"ville\"><a href=\"/malakoff_92046\">Malakoff</a></td><td class=\"note\">2,56</td></tr><tr><td class=\"date aaa\">11-05, 22:41</td><td class=\"ville\"><a href=\"/lorette_42123\">Lorette</a></td><td class=\"note\">7,00</td></tr><tr><td class=\"date aaa\">11-05, 22:01</td><td class=\"ville\"><a href=\"/le-plessis-trevise_94059\">Le Plessis-Trévise</a></td><td class=\"note\">8,69</td></tr><tr><td class=\"date aaa\">11-05, 22:00</td><td class=\"ville\"><a href=\"/paris-20e-arrondissement_75120\">Paris 20e Arr.</a></td><td class=\"note\">8,94</td></tr><tr><td class=\"date aaa\">11-05, 21:43</td><td class=\"ville\"><a href=\"/saint-genies-de-malgoires_30255\">Saint-Geniès-de-Malgoirès</a></td><td class=\"note\">2,25</td></tr><tr><td class=\"date aaa\">11-05, 20:12</td><td class=\"ville\"><a href=\"/eragny_95218\">Éragny</a></td><td class=\"note\">7,06</td></tr><tr><td class=\"date aaa\">11-05, 20:09</td><td class=\"ville\"><a href=\"/villiers-le-bacle_91679\">Villiers-le-Bâcle</a></td><td class=\"note\">7,63</td></tr><tr><td class=\"date aaa\">11-05, 18:42</td><td class=\"ville\"><a href=\"/sathonay-camp_69292\">Sathonay-Camp</a></td><td class=\"note\">3,94</td></tr><tr><td class=\"date aaa\">11-05, 18:40</td><td class=\"ville\"><a href=\"/vire_14762\">Vire</a></td><td class=\"note\">8,63</td></tr><tr><td class=\"date aaa\">11-05, 18:35</td><td class=\"ville\"><a href=\"/argenteuil_95018\">Argenteuil</a></td><td class=\"note\">9,56</td></tr><tr><td class=\"date aaa\">11-05, 18:16</td><td class=\"ville\"><a href=\"/saint-aubin-les-elbeuf_76561\">Saint-Aubin-lès-Elbeuf</a></td><td class=\"note\">1,13</td></tr><tr><td class=\"date aaa\">11-05, 18:05</td><td class=\"ville\"><a href=\"/brunoy_91114\">Brunoy</a></td><td class=\"note\">8,06</td></tr><tr><td class=\"date aaa\">11-05, 18:00</td><td class=\"ville\"><a href=\"/bergerac_24037\">Bergerac</a></td><td class=\"note\">6,56</td></tr><tr><td class=\"date aaa\">11-05, 17:52</td><td class=\"ville\"><a href=\"/marcheprime_33555\">Marcheprime</a></td><td class=\"note\">9,56</td></tr><tr><td class=\"date aaa\">11-05, 17:48</td><td class=\"ville\"><a href=\"/pezenas_34199\">Pézenas</a></td><td class=\"note\">1,06</td></tr><tr><td class=\"date aaa\">11-05, 17:43</td><td class=\"ville\"><a href=\"/alignan-du-vent_34009\">Alignan-du-Vent</a></td><td class=\"note\">5,63</td></tr><tr><td class=\"date aaa\">11-05, 17:39</td><td class=\"ville\"><a href=\"/pezenas_34199\">Pézenas</a></td><td class=\"note\">9,00</td></tr><tr><td class=\"date aaa\">11-05, 16:09</td><td class=\"ville\"><a href=\"/althen-des-paluds_84001\">Althen-des-Paluds</a></td><td class=\"note\">5,94</td></tr><tr><td class=\"date aaa\">11-05, 14:47</td><td class=\"ville\"><a href=\"/saumur_49328\">Saumur</a></td><td class=\"note\">9,06</td></tr><tr><td class=\"date aaa\">11-05, 14:27</td><td class=\"ville\"><a href=\"/vitry-sur-seine_94081\">Vitry-sur-Seine</a></td><td class=\"note\">3,94</td></tr><tr><td class=\"date aaa\">11-05, 13:10</td><td class=\"ville\"><a href=\"/bordeaux_33063\">Bordeaux</a></td><td class=\"note\">8,63</td></tr><tr><td class=\"date aaa\">11-05, 12:52</td><td class=\"ville\"><a href=\"/calais_62193\">Calais</a></td><td class=\"note\">5,06</td></tr><tr><td class=\"date aaa\">11-05, 11:57</td><td class=\"ville\"><a href=\"/ventabren_13114\">Ventabren</a></td><td class=\"note\">6,06</td></tr><tr><td class=\"date aaa\">11-05, 11:40</td><td class=\"ville\"><a href=\"/la-celle-saint-cloud_78126\">La Celle-Saint-Cloud</a></td><td class=\"note\">8,81</td></tr><tr><td class=\"date aaa\">11-05, 11:34</td><td class=\"ville\"><a href=\"/pezenas_34199\">Pézenas</a></td><td class=\"note\">2,25</td></tr><tr><td class=\"date aaa\">11-05, 11:14</td><td class=\"ville\"><a href=\"/aix-les-bains_73008\">Aix-les-Bains</a></td><td class=\"note\">9,13</td></tr><tr><td class=\"date aaa\">11-05, 11:05</td><td class=\"ville\"><a href=\"/asnieres-sur-seine_92004\">Asnières-sur-Seine</a></td><td class=\"note\">6,88</td></tr></table><div id=\"dpdh\"><script class=\"__lxGc__\" type=\"text/javascript\">((__lxGc__=window.__lxGc__||{'s':{},'b':0})['s']['_210338']=__lxGc__['s']['_210338']||{'b':{}})['b']['_613321']={'i':__lxGc__.b++};</script></div></div><div id=\"bas\"><script class=\"__lxGc__\" type=\"text/javascript\">((__lxGc__=window.__lxGc__||{'s':{},'b':0})['s']['_210338']=__lxGc__['s']['_210338']||{'b':{}})['b']['_648073']={'i':__lxGc__.b++};</script><a href=\"#haut\">Retour Haut de page</a></div><div id=\"footer\"><p>ville-ideale.fr est un site indépendant qui permet aux internautes de donner leur avis et noter une ville pour en faire connaître sa qualité de vie.</p><p>© ville-ideale.fr 2012-2021 tous droits réservés | <a href=\"./infosite.php\">Mentions légales</a> | <a href=\"javascript: popup('contact.php', 450, 310, '')\">Contact</a> | <a href=\"#\" onclick=\"if(window.__lxG__consent__!==undefined&amp;&amp;window.__lxG__consent__.getState()!==null){window.__lxG__consent__.showConsent()} else {alert('This function only for users from European Economic Area (EEA)')}; return false\">Change privacy settings</a>\n",
       " <small style=\"margin-left: 300px\">Page générée en 0.0671 seconde</small></p></div><script>window.onload = function() {vtimer();};</script></div>\n",
       " </body></html>]"
      ]
     },
     "metadata": {},
     "execution_count": 19
    }
   ],
   "source": [
    "soup.contents"
   ]
  }
 ]
}