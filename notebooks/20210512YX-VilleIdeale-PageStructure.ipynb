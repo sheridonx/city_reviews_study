{
 "metadata": {
  "language_info": {
   "codemirror_mode": {
    "name": "ipython",
    "version": 3
   },
   "file_extension": ".py",
   "mimetype": "text/x-python",
   "name": "python",
   "nbconvert_exporter": "python",
   "pygments_lexer": "ipython3",
   "version": "3.8.10"
  },
  "orig_nbformat": 2,
  "kernelspec": {
   "name": "python3810jvsc74a57bd0dd58b2f556e461a08f86595294a01186edee4e7b3581f67114cec4ed1ccd6d62",
   "display_name": "Python 3.8.10 64-bit ('city_reviews': venv)"
  },
  "metadata": {
   "interpreter": {
    "hash": "dd58b2f556e461a08f86595294a01186edee4e7b3581f67114cec4ed1ccd6d62"
   }
  }
 },
 "nbformat": 4,
 "nbformat_minor": 2,
 "cells": [
  {
   "cell_type": "code",
   "execution_count": 35,
   "metadata": {},
   "outputs": [],
   "source": [
    "import pandas as pd\n",
    "from bs4 import BeautifulSoup\n",
    "from selenium import webdriver\n",
    "import os\n",
    "from os import path\n",
    "from datetime import datetime"
   ]
  },
  {
   "cell_type": "code",
   "execution_count": 2,
   "metadata": {},
   "outputs": [],
   "source": [
    "driver_path = path.join(path.dirname(os.getcwd()),'drivers','chromedriver.exe')"
   ]
  },
  {
   "cell_type": "code",
   "execution_count": 3,
   "metadata": {},
   "outputs": [],
   "source": [
    "driver = webdriver.Chrome(executable_path=driver_path)"
   ]
  },
  {
   "cell_type": "code",
   "execution_count": 4,
   "metadata": {},
   "outputs": [],
   "source": [
    "vi_base_url = 'https://www.ville-ideale.fr/'"
   ]
  },
  {
   "cell_type": "code",
   "execution_count": 5,
   "metadata": {},
   "outputs": [],
   "source": [
    "city_test = {\n",
    "    'name':'puteaux',\n",
    "    'postal_code': 92062\n",
    "}"
   ]
  },
  {
   "cell_type": "code",
   "execution_count": 6,
   "metadata": {},
   "outputs": [],
   "source": [
    "driver.get(url = vi_base_url+'{}_{}'.format(city_test['name'], city_test['postal_code']))"
   ]
  },
  {
   "cell_type": "code",
   "execution_count": 7,
   "metadata": {},
   "outputs": [],
   "source": [
    "soup = BeautifulSoup(driver.page_source)"
   ]
  },
  {
   "cell_type": "code",
   "execution_count": 13,
   "metadata": {},
   "outputs": [
    {
     "output_type": "execute_result",
     "data": {
      "text/plain": [
       "'PUTEAUX'"
      ]
     },
     "metadata": {},
     "execution_count": 13
    }
   ],
   "source": [
    "soup.title.text.split(' ')[2]"
   ]
  },
  {
   "cell_type": "code",
   "execution_count": 26,
   "metadata": {},
   "outputs": [],
   "source": [
    "city_dimension_label = {\n",
    "     'Environnement': 'environment',\n",
    "     'Transports': 'transport',\n",
    "     'Sécurité': 'security',\n",
    "     'Santé': 'health',\n",
    "     'Sports et loisirs': 'sport_entertainment',\n",
    "     'Culture': 'culture',\n",
    "     'Enseignement':'education',\n",
    "     'Commerces': 'business',\n",
    "     'Qualité de vie': 'life_quality'\n",
    " }"
   ]
  },
  {
   "cell_type": "code",
   "execution_count": 47,
   "metadata": {},
   "outputs": [],
   "source": [
    "dict_cities_notes = {}"
   ]
  },
  {
   "cell_type": "code",
   "execution_count": 63,
   "metadata": {},
   "outputs": [],
   "source": [
    "city_note = {}\n",
    "city_note['name'] = soup.find(id='colleft').find('h1').text.split(' ')[0]\n",
    "city_note['postal_code'] = soup.find(id='colleft').find('h1').text.split(' ')[1][1:-1]\n",
    "general_note = soup.find(id='ng')\n",
    "city_note['general_note'] = float(general_note.text.split(' ')[0].replace(',','.'))\n",
    "city_note['count'] = int(soup.find(id='nobt').text.split(' ')[-2])\n",
    "# city_note['ranking']\n",
    "general_note_table = soup.find(id='tablonotes')\n",
    "for label_note in general_note_table.find_all('tr'):\n",
    "    city_note[city_dimension_label[label_note.find('th').text]] =  float(label_note.find('td').text.replace(',','.'))\n",
    "city_note['update_time'] = datetime.now()"
   ]
  },
  {
   "cell_type": "code",
   "execution_count": 62,
   "metadata": {},
   "outputs": [
    {
     "output_type": "execute_result",
     "data": {
      "text/plain": [
       "'24ème\\xa0/\\xa0213'"
      ]
     },
     "metadata": {},
     "execution_count": 62
    }
   ],
   "source": [
    "soup.find(id='classt').find('b').text"
   ]
  },
  {
   "cell_type": "code",
   "execution_count": 64,
   "metadata": {},
   "outputs": [],
   "source": [
    "dict_cities_notes['puteaux'] = city_note"
   ]
  },
  {
   "cell_type": "code",
   "execution_count": 65,
   "metadata": {},
   "outputs": [
    {
     "output_type": "execute_result",
     "data": {
      "text/plain": [
       "{'puteaux': {'name': 'PUTEAUX',\n",
       "  'postal_code': '92800',\n",
       "  'general_note': 7.67,\n",
       "  'count': 155,\n",
       "  'environment': 6.8,\n",
       "  'transport': 8.12,\n",
       "  'security': 8.04,\n",
       "  'health': 7.31,\n",
       "  'sport_entertainment': 8.56,\n",
       "  'culture': 7.9,\n",
       "  'education': 6.25,\n",
       "  'business': 7.56,\n",
       "  'life_quality': 7.76,\n",
       "  'update_time': datetime.datetime(2021, 5, 13, 23, 31, 49, 4653)}}"
      ]
     },
     "metadata": {},
     "execution_count": 65
    }
   ],
   "source": [
    "dict_cities_notes"
   ]
  },
  {
   "cell_type": "code",
   "execution_count": null,
   "metadata": {},
   "outputs": [],
   "source": []
  }
 ]
}