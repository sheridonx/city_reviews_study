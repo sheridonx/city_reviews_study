{
 "metadata": {
  "language_info": {
   "codemirror_mode": {
    "name": "ipython",
    "version": 3
   },
   "file_extension": ".py",
   "mimetype": "text/x-python",
   "name": "python",
   "nbconvert_exporter": "python",
   "pygments_lexer": "ipython3",
   "version": "3.8.10"
  },
  "orig_nbformat": 2,
  "kernelspec": {
   "name": "python3810jvsc74a57bd0dd58b2f556e461a08f86595294a01186edee4e7b3581f67114cec4ed1ccd6d62",
   "display_name": "Python 3.8.10 64-bit ('city_reviews': venv)"
  },
  "metadata": {
   "interpreter": {
    "hash": "dd58b2f556e461a08f86595294a01186edee4e7b3581f67114cec4ed1ccd6d62"
   }
  }
 },
 "nbformat": 4,
 "nbformat_minor": 2,
 "cells": [
  {
   "cell_type": "code",
   "execution_count": 1,
   "metadata": {},
   "outputs": [],
   "source": [
    "import pandas as pd\n",
    "from bs4 import BeautifulSoup\n",
    "from selenium import webdriver\n",
    "import os\n",
    "from os import path\n",
    "from datetime import datetime"
   ]
  },
  {
   "cell_type": "code",
   "execution_count": 2,
   "metadata": {},
   "outputs": [],
   "source": [
    "driver_path = path.join(path.dirname(os.getcwd()),'drivers','chromedriver.exe')"
   ]
  },
  {
   "cell_type": "code",
   "execution_count": 3,
   "metadata": {},
   "outputs": [],
   "source": [
    "driver = webdriver.Chrome(executable_path=driver_path)"
   ]
  },
  {
   "cell_type": "code",
   "execution_count": 4,
   "metadata": {},
   "outputs": [],
   "source": [
    "vi_base_url = 'https://www.ville-ideale.fr/'"
   ]
  },
  {
   "cell_type": "code",
   "execution_count": 5,
   "metadata": {},
   "outputs": [],
   "source": [
    "city_test = {\n",
    "    'name':'puteaux',\n",
    "    'postal_code': 92062\n",
    "}"
   ]
  },
  {
   "cell_type": "code",
   "execution_count": 6,
   "metadata": {},
   "outputs": [],
   "source": [
    "driver.get(url = vi_base_url+'{}_{}'.format(city_test['name'], city_test['postal_code']))"
   ]
  },
  {
   "cell_type": "code",
   "execution_count": 7,
   "metadata": {},
   "outputs": [],
   "source": [
    "soup = BeautifulSoup(driver.page_source)"
   ]
  },
  {
   "source": [
    "## Study on general information and notes"
   ],
   "cell_type": "markdown",
   "metadata": {}
  },
  {
   "cell_type": "code",
   "execution_count": 8,
   "metadata": {},
   "outputs": [
    {
     "output_type": "execute_result",
     "data": {
      "text/plain": [
       "'PUTEAUX'"
      ]
     },
     "metadata": {},
     "execution_count": 8
    }
   ],
   "source": [
    "soup.title.text.split(' ')[2]"
   ]
  },
  {
   "cell_type": "code",
   "execution_count": 9,
   "metadata": {},
   "outputs": [],
   "source": [
    "city_dimension_label = {\n",
    "     'Environnement': 'environment',\n",
    "     'Transports': 'transport',\n",
    "     'Sécurité': 'security',\n",
    "     'Santé': 'health',\n",
    "     'Sports et loisirs': 'sport_entertainment',\n",
    "     'Culture': 'culture',\n",
    "     'Enseignement':'education',\n",
    "     'Commerces': 'business',\n",
    "     'Qualité de vie': 'life_quality'\n",
    " }"
   ]
  },
  {
   "cell_type": "code",
   "execution_count": 10,
   "metadata": {},
   "outputs": [],
   "source": [
    "dict_cities_notes = {}"
   ]
  },
  {
   "cell_type": "code",
   "execution_count": 11,
   "metadata": {},
   "outputs": [],
   "source": [
    "city_note = {}\n",
    "city_note['name'] = soup.find(id='colleft').find('h1').text.split(' ')[0]\n",
    "city_note['postal_code'] = soup.find(id='colleft').find('h1').text.split(' ')[1][1:-1]\n",
    "general_note = soup.find(id='ng')\n",
    "city_note['general_note'] = float(general_note.text.split(' ')[0].replace(',','.'))\n",
    "city_note['count'] = int(soup.find(id='nobt').text.split(' ')[-2])\n",
    "# city_note['ranking']\n",
    "general_note_table = soup.find(id='tablonotes')\n",
    "for label_note in general_note_table.find_all('tr'):\n",
    "    city_note[city_dimension_label[label_note.find('th').text]] =  float(label_note.find('td').text.replace(',','.'))\n",
    "city_note['update_time'] = datetime.now()"
   ]
  },
  {
   "cell_type": "code",
   "execution_count": 12,
   "metadata": {},
   "outputs": [
    {
     "output_type": "execute_result",
     "data": {
      "text/plain": [
       "'24ème\\xa0/\\xa0213'"
      ]
     },
     "metadata": {},
     "execution_count": 12
    }
   ],
   "source": [
    "soup.find(id='classt').find('b').text"
   ]
  },
  {
   "cell_type": "code",
   "execution_count": 13,
   "metadata": {},
   "outputs": [],
   "source": [
    "dict_cities_notes['puteaux'] = city_note"
   ]
  },
  {
   "cell_type": "code",
   "execution_count": 14,
   "metadata": {},
   "outputs": [
    {
     "output_type": "execute_result",
     "data": {
      "text/plain": [
       "{'puteaux': {'name': 'PUTEAUX',\n",
       "  'postal_code': '92800',\n",
       "  'general_note': 7.67,\n",
       "  'count': 155,\n",
       "  'environment': 6.8,\n",
       "  'transport': 8.12,\n",
       "  'security': 8.04,\n",
       "  'health': 7.31,\n",
       "  'sport_entertainment': 8.56,\n",
       "  'culture': 7.9,\n",
       "  'education': 6.25,\n",
       "  'business': 7.56,\n",
       "  'life_quality': 7.76,\n",
       "  'update_time': datetime.datetime(2021, 5, 15, 23, 33, 31, 535545)}}"
      ]
     },
     "metadata": {},
     "execution_count": 14
    }
   ],
   "source": [
    "dict_cities_notes"
   ]
  },
  {
   "source": [
    "## Study on user reviews"
   ],
   "cell_type": "markdown",
   "metadata": {}
  },
  {
   "cell_type": "code",
   "execution_count": 15,
   "metadata": {},
   "outputs": [],
   "source": [
    "import re"
   ]
  },
  {
   "cell_type": "code",
   "execution_count": 16,
   "metadata": {},
   "outputs": [],
   "source": [
    "review_blocks = soup.find_all(class_='comm')"
   ]
  },
  {
   "cell_type": "code",
   "execution_count": 17,
   "metadata": {},
   "outputs": [
    {
     "output_type": "execute_result",
     "data": {
      "text/plain": [
       "6"
      ]
     },
     "metadata": {},
     "execution_count": 17
    }
   ],
   "source": [
    "len(review_blocks)"
   ]
  },
  {
   "cell_type": "code",
   "execution_count": 18,
   "metadata": {},
   "outputs": [],
   "source": [
    "review_block = review_blocks[0]"
   ]
  },
  {
   "cell_type": "code",
   "execution_count": 19,
   "metadata": {},
   "outputs": [
    {
     "output_type": "execute_result",
     "data": {
      "text/plain": [
       "'Avis posté le 02-05-2021 à 18:03Par Sam'"
      ]
     },
     "metadata": {},
     "execution_count": 19
    }
   ],
   "source": [
    "review_block.find_all('p')[0].text"
   ]
  },
  {
   "source": [
    "get edit time"
   ],
   "cell_type": "markdown",
   "metadata": {}
  },
  {
   "cell_type": "code",
   "execution_count": 20,
   "metadata": {},
   "outputs": [],
   "source": [
    "re_search = re.search(r'\\d{2}-\\d{2}-\\d{4}',review_block.find_all('p')[0].text)\n",
    "date_text = re_search.group(0)\n",
    "re_search = re.search(r'\\d{2}:\\d{2}',review_block.find_all('p')[0].text)\n",
    "time_text = re_search.group(0)\n",
    "post_time = datetime.strptime('{}-{}'.format(date_text, time_text),'%d-%m-%Y-%H:%M')"
   ]
  },
  {
   "cell_type": "code",
   "execution_count": 21,
   "metadata": {},
   "outputs": [],
   "source": [
    "dimensions = [th.text for th in review_block.find_all('th')]\n",
    "notes = [int(td.text) for td in review_block.find_all('td')]"
   ]
  },
  {
   "cell_type": "code",
   "execution_count": 22,
   "metadata": {},
   "outputs": [],
   "source": [
    "review_block_data = {\n",
    "    'time': post_time,\n",
    "    'mean':float(review_block.find(class_='moyenne').text),\n",
    "    **dict(zip(dimensions, notes)),\n",
    "    'positive': review_block.find_all('p')[1].text,\n",
    "    'negative': review_block.find_all('p')[2].text,\n",
    "    'count_agree': int(review_block.find_all('p')[3].find_all('strong')[0].text),\n",
    "    'count_disagree': int(review_block.find_all('p')[3].find_all('strong')[1].text)\n",
    "}"
   ]
  },
  {
   "cell_type": "code",
   "execution_count": 23,
   "metadata": {},
   "outputs": [
    {
     "output_type": "execute_result",
     "data": {
      "text/plain": [
       "{'time': datetime.datetime(2021, 5, 2, 18, 3),\n",
       " 'mean': 9.38,\n",
       " 'Environnement': 8,\n",
       " 'Transports': 10,\n",
       " 'Sécurité': 9,\n",
       " 'Santé': 9,\n",
       " 'Sportset loisirs': 9,\n",
       " 'Culture': 9,\n",
       " 'Enseignement': 7,\n",
       " 'Commerces': 9,\n",
       " 'Qualitéde vie': 10,\n",
       " 'positive': \"Les points positifs : Transport\\nRER/Métro ligne 1\\n\\nSécurité\\nPolice municipale réactive\\n\\nVerdure\\nBois de Boulogne à proximité\\nParc de l'île de Puteaux\\n\\nCommerces diversifiés et pour tout budget.\",\n",
       " 'negative': 'Les points négatifs : Ville bruyante\\nDépartementale, circulation de plus en plus dense\\n\\nCrèche\\nPeu de place en crèche\\n\\nQuartier frontalier à Nanterre (haut de Puteaux) à éviter\\n\\nVille très agréable.',\n",
       " 'count_agree': 4,\n",
       " 'count_disagree': 4}"
      ]
     },
     "metadata": {},
     "execution_count": 23
    }
   ],
   "source": [
    "review_block_data"
   ]
  },
  {
   "cell_type": "code",
   "execution_count": null,
   "metadata": {},
   "outputs": [],
   "source": []
  }
 ]
}